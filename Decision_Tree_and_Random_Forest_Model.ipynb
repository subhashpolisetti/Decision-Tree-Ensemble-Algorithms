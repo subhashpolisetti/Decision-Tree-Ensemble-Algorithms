{
  "nbformat": 4,
  "nbformat_minor": 0,
  "metadata": {
    "colab": {
      "provenance": [],
      "authorship_tag": "ABX9TyMO8R7VuIDkoKbksR/TLMmi",
      "include_colab_link": true
    },
    "kernelspec": {
      "name": "python3",
      "display_name": "Python 3"
    },
    "language_info": {
      "name": "python"
    }
  },
  "cells": [
    {
      "cell_type": "markdown",
      "metadata": {
        "id": "view-in-github",
        "colab_type": "text"
      },
      "source": [
        "<a href=\"https://colab.research.google.com/github/subhashpolisetti/Decision-Tree-Ensemble-Algorithms/blob/main/Decision_Tree_and_Random_Forest_Model.ipynb\" target=\"_parent\"><img src=\"https://colab.research.google.com/assets/colab-badge.svg\" alt=\"Open In Colab\"/></a>"
      ]
    },
    {
      "cell_type": "markdown",
      "source": [
        "# Decision Trees and Random Forest from Scratch\n",
        "\n",
        "This notebook demonstrates the implementation of decision trees and random forests from scratch in Python. The goal of this project is to understand the fundamental concepts behind these algorithms and how they work, step by step.\n",
        "\n",
        "## Key Concepts\n",
        "\n",
        "1. **Decision Tree**: A decision tree is a supervised learning algorithm used for classification and regression tasks. The tree splits the data based on feature thresholds to reduce impurity (using metrics like Gini impurity or Information Gain). The algorithm recursively builds the tree until a stopping condition is met.\n",
        "\n",
        "2. **Random Forest**: Random Forest is an ensemble learning method that combines multiple decision trees to improve predictive performance and reduce overfitting. It works by training multiple trees on random subsets of the data and aggregating their predictions through majority voting (for classification) or averaging (for regression).\n",
        "\n",
        "## Algorithm Details\n",
        "\n",
        "### 1. **Decision Tree Algorithm**\n",
        "   - **Gini Impurity**: A metric to measure the \"impurity\" of a node, which helps in deciding the best feature to split on.\n",
        "   - **Splitting Data**: The dataset is split based on the feature value (threshold) that minimizes the Gini impurity.\n",
        "   - **Recursive Tree Construction**: The tree recursively splits the data until stopping criteria such as maximum depth or minimum samples are met.\n",
        "\n",
        "### 2. **Random Forest Algorithm**\n",
        "   - **Bootstrap Sampling**: Random Forest uses bootstrap sampling (sampling with replacement) to create multiple datasets for training each decision tree.\n",
        "   - **Majority Voting**: The predictions of all individual trees are combined through majority voting (for classification).\n",
        "   - **Ensemble Learning**: Random Forest aggregates the predictions of multiple decision trees, which helps in reducing overfitting and improving generalization.\n",
        "\n",
        "## Model Evaluation\n",
        "\n",
        "The implementation is tested using the **Iris Dataset**:\n",
        "   - The dataset is split into training and testing sets.\n",
        "   - A Random Forest classifier is trained on the training set and tested on the test set.\n",
        "   - The accuracy of the Random Forest model is evaluated using the `accuracy_score` metric.\n",
        "\n",
        "## Feature Importance\n",
        "\n",
        "The notebook also demonstrates how to calculate and visualize the feature importance in the Random Forest model. This is achieved by calculating how frequently each feature is used for splitting the data across all trees in the forest.\n",
        "\n",
        "### Libraries Used\n",
        "- `numpy`: For numerical computations and array manipulations.\n",
        "- `collections.Counter`: To count occurrences of labels for prediction aggregation.\n",
        "- `matplotlib`: For plotting the feature importance.\n",
        "\n",
        "## Results\n",
        "\n",
        "- The accuracy of the Random Forest model on the test set.\n",
        "- A bar plot of feature importance based on the number of times each feature was used in the decision trees.\n",
        "\n",
        "By the end of this notebook, you will have a better understanding of how decision trees and random forests work and how they can be implemented from scratch without relying on libraries like `sklearn`.\n",
        "\n",
        "---\n",
        "\n",
        "Feel free to explore and modify the code to experiment with different datasets and hyperparameters!\n"
      ],
      "metadata": {
        "id": "-QuAdVbzuGIp"
      }
    },
    {
      "cell_type": "code",
      "execution_count": 1,
      "metadata": {
        "id": "RIfX5KRrtuhw"
      },
      "outputs": [],
      "source": [
        "\n",
        "import numpy as np\n",
        "from collections import Counter\n",
        "\n"
      ]
    },
    {
      "cell_type": "code",
      "source": [
        "def gini_impurity(y):\n",
        "    counts = np.bincount(y)\n",
        "    probabilities = counts / len(y)\n",
        "    return 1 - np.sum(probabilities ** 2)"
      ],
      "metadata": {
        "id": "Er4K2ILAuOJ9"
      },
      "execution_count": 2,
      "outputs": []
    },
    {
      "cell_type": "code",
      "source": [
        "\n",
        "\n",
        "def split_dataset(X, y, feature_index, threshold):\n",
        "    left_indices = X[:, feature_index] <= threshold\n",
        "    right_indices = X[:, feature_index] > threshold\n",
        "    return X[left_indices], X[right_indices], y[left_indices], y[right_indices]"
      ],
      "metadata": {
        "id": "1xl3YXEsuQfG"
      },
      "execution_count": 3,
      "outputs": []
    },
    {
      "cell_type": "code",
      "source": [
        "def find_best_split(X, y):\n",
        "    best_gini = float('inf')  # Initialize the best Gini impurity as infinity (worst possible case)\n",
        "    best_split = None  # Variable to store the best split (feature and threshold)\n",
        "    n_features = X.shape[1]  # Get the number of features in the dataset\n",
        "\n",
        "    # Iterate over each feature to find the best feature for splitting\n",
        "    for feature_index in range(n_features):\n",
        "        thresholds = np.unique(X[:, feature_index])  # Get all unique values for the current feature\n",
        "        # Iterate over all possible threshold values for the feature\n",
        "        for threshold in thresholds:\n",
        "            # Split the dataset into left and right based on the threshold for this feature\n",
        "            _, _, y_left, y_right = split_dataset(X, y, feature_index, threshold)\n",
        "\n",
        "            # Skip this split if it results in empty subsets (i.e., no data in left or right split)\n",
        "            if len(y_left) == 0 or len(y_right) == 0:\n",
        "                continue\n",
        "\n",
        "            # Calculate the Gini impurity for the split (weighted by the size of the subsets)\n",
        "            gini = (len(y_left) / len(y) * gini_impurity(y_left) +  # Gini impurity for left split\n",
        "                    len(y_right) / len(y) * gini_impurity(y_right))  # Gini impurity for right split\n",
        "\n",
        "            # If the current split has a lower Gini impurity, update the best split\n",
        "            if gini < best_gini:\n",
        "                best_gini = gini  # Update the best Gini impurity\n",
        "                best_split = (feature_index, threshold)  # Store the current best split (feature and threshold)\n",
        "\n",
        "    return best_split  # Return the feature index and threshold that gave the best split\n"
      ],
      "metadata": {
        "id": "QAnuhQ-0uSKL"
      },
      "execution_count": 4,
      "outputs": []
    },
    {
      "cell_type": "code",
      "source": [
        "class DecisionTree:\n",
        "    def __init__(self, max_depth=5, min_samples_split=2):\n",
        "        self.max_depth = max_depth  # Maximum depth of the tree to control overfitting\n",
        "        self.min_samples_split = min_samples_split  # Minimum number of samples required to split a node\n",
        "        self.tree = None  # The tree will be built during the training phase (fit)\n",
        "\n",
        "    def fit(self, X, y, depth=0):\n",
        "        # Stopping criteria:\n",
        "        # 1. If max depth is reached.\n",
        "        # 2. If there are not enough samples to split.\n",
        "        # 3. If the data at this node belongs to only one class (pure node).\n",
        "        if depth == self.max_depth or len(y) < self.min_samples_split or len(np.unique(y)) == 1:\n",
        "            return Counter(y).most_common(1)[0][0]  # Return the most common class (leaf node)\n",
        "\n",
        "        # Find the best feature and threshold to split the data\n",
        "        feature_index, threshold = find_best_split(X, y)\n",
        "\n",
        "        # If no valid split is found (all features failed), return the most common class\n",
        "        if feature_index is None:\n",
        "            return Counter(y).most_common(1)[0][0]\n",
        "\n",
        "        # Split the dataset based on the best feature and threshold\n",
        "        left_X, right_X, left_y, right_y = split_dataset(X, y, feature_index, threshold)\n",
        "\n",
        "        # Recursively build the left and right subtrees\n",
        "        self.tree = {\n",
        "            \"feature_index\": feature_index,  # Index of the feature used for splitting\n",
        "            \"threshold\": threshold,  # Threshold used for splitting\n",
        "            \"left\": self.fit(left_X, left_y, depth + 1),  # Recursively fit left subtree\n",
        "            \"right\": self.fit(right_X, right_y, depth + 1)  # Recursively fit right subtree\n",
        "        }\n",
        "        return self.tree  # Return the root of the tree\n",
        "\n",
        "    def predict_single(self, x, tree):\n",
        "        # Recursive function to traverse the tree and predict a single instance\n",
        "        if isinstance(tree, dict):  # If the current node is not a leaf\n",
        "            # If the feature value at the node is less than or equal to the threshold, go left; else go right\n",
        "            if x[tree[\"feature_index\"]] <= tree[\"threshold\"]:\n",
        "                return self.predict_single(x, tree[\"left\"])\n",
        "            else:\n",
        "                return self.predict_single(x, tree[\"right\"])\n",
        "        return tree  # Return the predicted class (leaf node)\n",
        "\n",
        "    def predict(self, X):\n",
        "        # Predict for all instances in the dataset\n",
        "        return np.array([self.predict_single(x, self.tree) for x in X])\n"
      ],
      "metadata": {
        "id": "A9jQEanuua08"
      },
      "execution_count": 5,
      "outputs": []
    },
    {
      "cell_type": "code",
      "source": [
        "class RandomForest:\n",
        "    def __init__(self, n_trees=10, max_depth=5, min_samples_split=2):\n",
        "        self.n_trees = n_trees  # Number of trees in the forest\n",
        "        self.max_depth = max_depth  # Maximum depth for each decision tree to prevent overfitting\n",
        "        self.min_samples_split = min_samples_split  # Minimum number of samples required to split a node\n",
        "        self.trees = []  # List to hold the individual decision trees\n",
        "\n",
        "    def bootstrap_sample(self, X, y):\n",
        "        n_samples = X.shape[0]  # Get the total number of samples in the dataset\n",
        "        indices = np.random.choice(n_samples, n_samples, replace=True)  # Randomly select samples with replacement\n",
        "        return X[indices], y[indices]  # Return the bootstrapped sample (with replacement)\n",
        "\n",
        "    def fit(self, X, y):\n",
        "        self.trees = []  # Reset the list of trees before training\n",
        "        # Train multiple decision trees\n",
        "        for _ in range(self.n_trees):\n",
        "            X_sample, y_sample = self.bootstrap_sample(X, y)  # Get a bootstrapped sample of the data\n",
        "            tree = DecisionTree(self.max_depth, self.min_samples_split)  # Create a new decision tree\n",
        "            tree.fit(X_sample, y_sample)  # Train the tree on the bootstrapped sample\n",
        "            self.trees.append(tree)  # Add the trained tree to the forest\n",
        "\n",
        "    def predict(self, X):\n",
        "        # Get predictions from each tree in the forest\n",
        "        tree_predictions = np.array([tree.predict(X) for tree in self.trees])\n",
        "        # Perform majority voting to determine the final prediction for each instance\n",
        "        return np.array([Counter(tree_predictions[:, i]).most_common(1)[0][0] for i in range(X.shape[0])])\n"
      ],
      "metadata": {
        "id": "TFbvAuasui7i"
      },
      "execution_count": 6,
      "outputs": []
    },
    {
      "cell_type": "code",
      "source": [
        "from sklearn.datasets import load_iris\n",
        "from sklearn.model_selection import train_test_split\n",
        "from sklearn.metrics import accuracy_score\n",
        "\n",
        "# Load dataset\n",
        "data = load_iris()\n",
        "X, y = data.data, data.target\n",
        "\n",
        "# Split data\n",
        "X_train, X_test, y_train, y_test = train_test_split(X, y, test_size=0.2, random_state=42)\n",
        "\n",
        "# Train Random Forest\n",
        "forest = RandomForest(n_trees=10, max_depth=5)\n",
        "forest.fit(X_train, y_train)\n",
        "\n",
        "# Test Random Forest\n",
        "predictions = forest.predict(X_test)\n",
        "print(\"Accuracy:\", accuracy_score(y_test, predictions))\n",
        ""
      ],
      "metadata": {
        "colab": {
          "base_uri": "https://localhost:8080/"
        },
        "id": "aBC-GgRTupPU",
        "outputId": "038042bf-7c2a-489f-bb19-133a24b3a35d"
      },
      "execution_count": 7,
      "outputs": [
        {
          "output_type": "stream",
          "name": "stdout",
          "text": [
            "Accuracy: 1.0\n"
          ]
        }
      ]
    },
    {
      "cell_type": "code",
      "source": [
        "import matplotlib.pyplot as plt\n",
        "\n",
        "def plot_feature_importance(forest, feature_names):\n",
        "    # Initialize an array to store the importance of each feature\n",
        "    importances = np.zeros(len(feature_names))\n",
        "\n",
        "    # Loop through each tree in the random forest\n",
        "    for tree in forest.trees:\n",
        "        # If the tree is a valid decision tree (i.e., it has been trained)\n",
        "        if isinstance(tree.tree, dict):\n",
        "            # Increment the importance for the feature that was used to split at this node\n",
        "            importances[tree.tree[\"feature_index\"]] += 1\n",
        "\n",
        "    # Normalize the importance values by dividing by the total number of splits to get a proportion\n",
        "    importances = importances / sum(importances)\n",
        "\n",
        "    # Create a horizontal bar plot to display feature importance\n",
        "    plt.figure(figsize=(8, 6))  # Set the figure size for the plot\n",
        "    plt.barh(range(len(importances)), importances, align='center')  # Bar plot for feature importances\n",
        "    plt.yticks(range(len(feature_names)), feature_names)  # Label the y-axis with the feature names\n",
        "    plt.xlabel(\"Feature Importance\")  # Label for the x-axis\n",
        "    plt.ylabel(\"Feature\")  # Label for the y-axis\n",
        "    plt.title(\"Feature Importance in Random Forest\")  # Title of the plot\n",
        "    plt.show()  # Display the plot\n",
        "\n",
        "# Call the function to visualize feature importance\n",
        "plot_feature_importance(forest, data.feature_names)\n"
      ],
      "metadata": {
        "colab": {
          "base_uri": "https://localhost:8080/",
          "height": 564
        },
        "id": "9b-h0KVHuvPK",
        "outputId": "08c3e147-462a-471b-ebf8-f4e00ac85954"
      },
      "execution_count": 8,
      "outputs": [
        {
          "output_type": "display_data",
          "data": {
            "text/plain": [
              "<Figure size 800x600 with 1 Axes>"
            ],
            "image/png": "[encoded data removed]"
          },
          "metadata": {}
        }
      ]
    },
    {
      "cell_type": "code",
      "source": [],
      "metadata": {
        "id": "QDNmZY4Wu28t"
      },
      "execution_count": null,
      "outputs": []
    }
  ]
}